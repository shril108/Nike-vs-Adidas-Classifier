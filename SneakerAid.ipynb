{
  "nbformat": 4,
  "nbformat_minor": 0,
  "metadata": {
    "colab": {
      "name": "SneakerAid.ipynb",
      "provenance": [],
      "collapsed_sections": [],
      "mount_file_id": "1uQ3Pr6rMCXs4Q102mdWshPbc0x3k5Gh2",
      "authorship_tag": "ABX9TyMUsLygdzRkkk9YRhLBMauc",
      "include_colab_link": true
    },
    "kernelspec": {
      "name": "python3",
      "display_name": "Python 3"
    },
    "language_info": {
      "name": "python"
    }
  },
  "cells": [
    {
      "cell_type": "markdown",
      "metadata": {
        "id": "view-in-github",
        "colab_type": "text"
      },
      "source": [
        "<a href=\"https://colab.research.google.com/github/shril108/Nike-vs-Adidas-Classifier/blob/main/SneakerAid.ipynb\" target=\"_parent\"><img src=\"https://colab.research.google.com/assets/colab-badge.svg\" alt=\"Open In Colab\"/></a>"
      ]
    },
    {
      "cell_type": "code",
      "execution_count": null,
      "metadata": {
        "id": "UMJ3DjPmlql6"
      },
      "outputs": [],
      "source": [
        "import cv2                 # working with, mainly resizing, images\n",
        "import numpy as np         # dealing with arrays\n",
        "import os                  # dealing with directories\n",
        "import random                # mixing up or currently ordered data that might lead our network astray in training.\n",
        "import matplotlib.pyplot as plt\n",
        "import tensorflow as tf\n",
        "import albumentations as A\n",
        "from PIL import Image\n",
        "from functools import partial\n",
        "import re\n",
        "import urllib\n",
        "\n",
        "\n",
        "ADIDAS = \"/content/drive/MyDrive/Shoe Pics/shoepics/adidas\"\n",
        "NIKE = \"/content/drive/MyDrive/Shoe Pics/shoepics/nike\"\n",
        "TRAIN = \"/content/drive/MyDrive/Shoe Pics/shoepics/train\"\n",
        "TEST = \"/content/drive/MyDrive/Shoe Pics/shoepics/test\"\n",
        "\n",
        "\n",
        "LR = 1e-3\n",
        "AUTOTUNE = tf.data.experimental.AUTOTUNE\n",
        "IMG_SIZE = 150\n",
        "BATCH_SIZE = 32"
      ]
    },
    {
      "cell_type": "code",
      "source": [
        "def visualize(image):\n",
        "    plt.figure(figsize=(10, 10))\n",
        "    plt.axis('off')\n",
        "    plt.imshow(image)"
      ],
      "metadata": {
        "id": "bEkpELqbLNh-"
      },
      "execution_count": null,
      "outputs": []
    },
    {
      "cell_type": "code",
      "source": [
        "#defining data augmentation pipeline\n",
        "\n",
        "#augmentations that make sense for immage classifier:\n",
        "#flipping, color space, rotation\n",
        "\n",
        "transform = A.Compose([\n",
        "    A.HorizontalFlip(p = 0.5),\n",
        "    A.RandomBrightnessContrast(p = 0.5),\n",
        "    A.RandomRotate90(p = 0.5),\n",
        "    A.Blur(blur_limit = 3, p = 0.9),\n",
        "    A.RGBShift(r_shift_limit=20, g_shift_limit=20, b_shift_limit=20, p=0.9)\n",
        "])"
      ],
      "metadata": {
        "id": "pZvjhwP6z-jy"
      },
      "execution_count": null,
      "outputs": []
    },
    {
      "cell_type": "code",
      "source": [
        "#displaying images, the parameter has to be in a list format\n",
        "def plot_examples(images):\n",
        "    fig = plt.figure(figsize=(15, 15))\n",
        "    columns = 4\n",
        "    rows = 5\n",
        "\n",
        "    for i in range(1, len(images)):\n",
        "        img = images[i-1]\n",
        "        fig.add_subplot(rows, columns, i)\n",
        "        plt.imshow(img)\n",
        "    plt.show()"
      ],
      "metadata": {
        "id": "7Vd02bhFhWiZ"
      },
      "execution_count": null,
      "outputs": []
    },
    {
      "cell_type": "code",
      "source": [
        "#actually putting the images from adidas and nike through the DA pipeline\n",
        "#need to pass in adidas and nike labels into the shoes list so that you can distribute to train and test folders accordingly\n",
        "\n",
        "shoes = []\n",
        "#the data paths variables are made to ensure that there are no directories included in the files we want to augment\n",
        "data_paths1 = [os.path.join(ADIDAS, f) for f in os.listdir(ADIDAS)]\n",
        "data_paths1 = [i for i in data_paths1 if os.path.isfile(i)]\n",
        "data_paths2 = [os.path.join(NIKE, f) for f in os.listdir(NIKE)]\n",
        "data_paths2 = [i for i in data_paths2 if os.path.isfile(i)]\n",
        "\n",
        "\n",
        "for image in data_paths1:\n",
        "  # print(f\"{image}\")\n",
        "  label = image[49:55]\n",
        "  image = Image.open(image)\n",
        "  image = np.array(image)\n",
        "  # print(f\"{image.shape}\")\n",
        "  augDict = transform(image = image)\n",
        "  augImg = augDict[\"image\"]\n",
        "  shoes.append([augImg, label])\n",
        "\n",
        "\n",
        "for image in data_paths2:\n",
        "  # print(f\"{image} {counter}\")\n",
        "  label = image[47:51]\n",
        "  image = Image.open(image)\n",
        "  image = np.array(image)\n",
        "  # print(f\"{image.shape}\")\n",
        "  augDict = transform(image = image)\n",
        "  augImg = augDict[\"image\"]\n",
        "  shoes.append([augImg, label])\n",
        "\n",
        "\n"
      ],
      "metadata": {
        "id": "mspRBoMAGKDi"
      },
      "execution_count": null,
      "outputs": []
    },
    {
      "cell_type": "code",
      "source": [
        "#testing to see if shoes list was made properly\n",
        "\n",
        "print(shoes[0][1])\n",
        "print(shoes[120][1])\n",
        "print(len(shoes))\n"
      ],
      "metadata": {
        "id": "1TghDWJWCK6X",
        "colab": {
          "base_uri": "https://localhost:8080/"
        },
        "outputId": "5278a935-9acb-464b-e2b1-e78ad0075382"
      },
      "execution_count": null,
      "outputs": [
        {
          "output_type": "stream",
          "name": "stdout",
          "text": [
            "adidas\n",
            "nike\n",
            "200\n"
          ]
        }
      ]
    },
    {
      "cell_type": "code",
      "source": [
        "#need to make sure when you distribute the augmented photos to the training and testing folders that they are not distributed unevenly\n",
        "random.shuffle(shoes)"
      ],
      "metadata": {
        "id": "OK1be9PLOkRs"
      },
      "execution_count": null,
      "outputs": []
    },
    {
      "cell_type": "code",
      "source": [
        "#not needed everytime\n",
        "#to delete files from train and test folders\n",
        "\n",
        "\n",
        "trainList = [os.path.join(TRAIN, f) for f in os.listdir(TRAIN)]\n",
        "trainList = [i for i in trainList if os.path.isfile(i)]\n",
        "testList= [os.path.join(TEST, f) for f in os.listdir(TEST)]\n",
        "testList= [i for i in testList if os.path.isfile(i)]\n",
        "\n",
        "\n",
        "# for pict in trainList:\n",
        "#   os.remove(pict)\n",
        "\n",
        "# for pict in testList:\n",
        "#   os.remove(pict)\n",
        "\n",
        "# for pict in tempList:\n",
        "#   os.remove(pict)"
      ],
      "metadata": {
        "id": "lHu9CBCHTMzS"
      },
      "execution_count": null,
      "outputs": []
    },
    {
      "cell_type": "code",
      "source": [
        "#making the train and test datasets\n",
        "\n",
        "# putting the shoes list (or the augmented pictures from adidas and nike) into the train and test folders, 80% into train, 20% into test\n",
        "counter = 0\n",
        "for shoe, label in shoes[:160]:\n",
        "  picture = Image.fromarray(shoe)\n",
        "  # print(label)\n",
        "  # print('split')\n",
        "  # print(shoe)\n",
        "  picture.save(f\"/content/drive/MyDrive/Shoe Pics/shoepics/train/{label}_{counter}.png\")\n",
        "  counter += 1\n",
        "\n",
        "counter = 0\n",
        "for shoe, label in shoes[160:]:\n",
        "  picture = Image.fromarray(shoe)\n",
        "  # print(label)\n",
        "  # print('split')\n",
        "  # print(shoe)\n",
        "  picture.save(f\"/content/drive/MyDrive/Shoe Pics/shoepics/test/{label}_{counter}.png\")\n",
        "  counter += 1\n",
        "\n"
      ],
      "metadata": {
        "id": "KK8qNNhkOtcs"
      },
      "execution_count": null,
      "outputs": []
    },
    {
      "cell_type": "code",
      "source": [
        "#making the train and test datasets\n",
        "\n",
        "#take normal pics from adidas and nike folders and also put them in the training and testing datasets\n",
        "for index, pic in enumerate(data_paths1[:80]):\n",
        "  imag = Image.open(pic)\n",
        "  imag.save(f\"/content/drive/MyDrive/Shoe Pics/shoepics/train/adidas_{index}.png\")\n",
        "\n",
        "for index, pic in enumerate(data_paths1[80:]):\n",
        "  imag = Image.open(pic)\n",
        "  imag.save(f\"/content/drive/MyDrive/Shoe Pics/shoepics/test/adidas_{index}.png\")\n",
        "\n",
        "\n",
        "for index, pic in enumerate(data_paths2[:80]):\n",
        "  imag = Image.open(pic)\n",
        "  imag.save(f\"/content/drive/MyDrive/Shoe Pics/shoepics/train/nike_{index}.png\")\n",
        "\n",
        "for index, pic in enumerate(data_paths2[80:]):\n",
        "  imag = Image.open(pic)\n",
        "  imag.save(f\"/content/drive/MyDrive/Shoe Pics/shoepics/test/nike_{index}.png\")\n"
      ],
      "metadata": {
        "id": "DXjOQeeIoIG0"
      },
      "execution_count": null,
      "outputs": []
    },
    {
      "cell_type": "code",
      "source": [
        "#now we have our test and train folders full of images!\n",
        "print(len(os.listdir(\"/content/drive/MyDrive/Shoe Pics/shoepics/train\")))\n",
        "print(len(os.listdir(\"/content/drive/MyDrive/Shoe Pics/shoepics/test\")))"
      ],
      "metadata": {
        "id": "HpZ-UREPIfil",
        "colab": {
          "base_uri": "https://localhost:8080/"
        },
        "outputId": "ca9ea003-6bbd-4b8d-b397-7bfe945c2fd4"
      },
      "execution_count": null,
      "outputs": [
        {
          "output_type": "stream",
          "name": "stdout",
          "text": [
            "240\n",
            "60\n"
          ]
        }
      ]
    },
    {
      "cell_type": "code",
      "source": [
        "#hot encoding method\n",
        "\n",
        "def hotEncode(img):\n",
        "    word_label = img.split('_')[0]\n",
        "    if word_label == 'nike': return [1,0] #one hot encoding\n",
        "    elif word_label == 'adidas': return [0,1] #one hot encoding"
      ],
      "metadata": {
        "id": "TmkqgYisH8JW"
      },
      "execution_count": null,
      "outputs": []
    },
    {
      "cell_type": "code",
      "source": [
        "#make sure that the TRAIN and TEST only have img files and none of the .ipynb checkpoints\n",
        "\n",
        "trainList = [os.path.join(TRAIN, f) for f in os.listdir(TRAIN)]\n",
        "trainList = [i for i in trainList if os.path.isfile(i)]\n",
        "testList= [os.path.join(TEST, f) for f in os.listdir(TEST)]\n",
        "testList= [i for i in testList if os.path.isfile(i)]\n",
        "\n",
        "\n",
        "trainStuff = []\n",
        "testStuff = []\n",
        "\n",
        "#make trainList and testList have just the adidas1.png or nike1.png format\n",
        "for pic in trainList:\n",
        "  pic = pic.split('/')[-1]\n",
        "  trainStuff.append(pic)\n",
        "\n",
        "for pic in testList:\n",
        "  pic = pic.split('/')[-1]\n",
        "  testStuff.append(pic)\n",
        "\n",
        "\n",
        "\n",
        "print(trainStuff[:2])\n",
        "print(testStuff[:2])\n",
        "\n",
        "#verifying nothing was cut out of original lists\n",
        "print(len(trainList))\n",
        "print(len(trainStuff))\n",
        "print(len(testList))\n",
        "print(len(testStuff))"
      ],
      "metadata": {
        "id": "QB0x4kKlEQhS",
        "colab": {
          "base_uri": "https://localhost:8080/"
        },
        "outputId": "e7be8584-8195-4c99-cef2-0f169bb1fe44"
      },
      "execution_count": null,
      "outputs": [
        {
          "output_type": "stream",
          "name": "stdout",
          "text": [
            "['adidas_80.png', 'nike_81.png']\n",
            "['nike_20.png', 'nike_21.png']\n",
            "240\n",
            "240\n",
            "60\n",
            "60\n"
          ]
        }
      ]
    },
    {
      "cell_type": "code",
      "source": [
        "#now to process and make the actual datasets for the train and test folders, the actual datasets that we will pass into the fitting method\n",
        "\n",
        "\n",
        "#what is the ANTIALIAS all about?\n",
        "#When data that makes up the image has a different resolution than its representation on the screen we will see aliasing effects\n",
        "def createTrain():\n",
        "    train_data = []\n",
        "    for img in trainStuff:\n",
        "        label = hotEncode(img)\n",
        "        path = os.path.join(TRAIN, img)\n",
        "        img = Image.open(path) #Read image syntax with PIL Library\n",
        "        img = img.convert('L') #Grayscale conversion with PIL library\n",
        "        img = img.resize((IMG_SIZE, IMG_SIZE), Image.ANTIALIAS) #Resizing image syntax with PIL Library        \n",
        "        train_data.append([np.array(img), np.array(label)])\n",
        "    random.shuffle(train_data)\n",
        "    np.save('/content/drive/MyDrive/Shoe Pics/shoepics/train_data.npy', train_data) #.npy extension = numpy file\n",
        "    return train_data\n",
        "\n",
        "def createTest():\n",
        "    test_data = []\n",
        "    for img in testStuff:\n",
        "        num = img.split(\"_\")[1]\n",
        "        path = os.path.join(TEST, img)\n",
        "        img = Image.open(path)\n",
        "        img = img.convert('L')\n",
        "        img = img.resize((IMG_SIZE, IMG_SIZE), Image.ANTIALIAS)\n",
        "        test_data.append([np.array(img), num])\n",
        "    random.shuffle(test_data)\n",
        "    np.save('/content/drive/MyDrive/Shoe Pics/shoepics/test_data.npy', test_data)\n",
        "    return test_data"
      ],
      "metadata": {
        "id": "z57PrZtCHjKi"
      },
      "execution_count": null,
      "outputs": []
    },
    {
      "cell_type": "code",
      "source": [
        "trainData = createTrain()\n",
        "testData = createTest()"
      ],
      "metadata": {
        "id": "McExEOu-JWSt"
      },
      "execution_count": null,
      "outputs": []
    },
    {
      "cell_type": "code",
      "source": [
        "plt.imshow(trainData[105][0], cmap = 'gist_gray')\n",
        "print(trainData[105][1])"
      ],
      "metadata": {
        "colab": {
          "base_uri": "https://localhost:8080/",
          "height": 287
        },
        "id": "oO1-m5q6Mx0h",
        "outputId": "dac95983-ad4b-481b-99de-544a1c007f4c"
      },
      "execution_count": null,
      "outputs": [
        {
          "output_type": "stream",
          "name": "stdout",
          "text": [
            "[0 1]\n"
          ]
        },
        {
          "output_type": "display_data",
          "data": {
            "text/plain": [
              "<Figure size 432x288 with 1 Axes>"
            ],
            "image/png": "[encoded data removed]"
          },
          "metadata": {
            "needs_background": "light"
          }
        }
      ]
    },
    {
      "cell_type": "code",
      "source": [
        "!pip install tflearn"
      ],
      "metadata": {
        "colab": {
          "base_uri": "https://localhost:8080/"
        },
        "id": "MGeigeDJqRt_",
        "outputId": "3e4ee6b0-b956-4a8e-86d8-38c509aa338f"
      },
      "execution_count": null,
      "outputs": [
        {
          "output_type": "stream",
          "name": "stdout",
          "text": [
            "Collecting tflearn\n",
            "  Downloading tflearn-0.5.0.tar.gz (107 kB)\n",
            "\u001b[?25l\r\u001b[K     |███                             | 10 kB 33.5 MB/s eta 0:00:01\r\u001b[K     |██████                          | 20 kB 42.5 MB/s eta 0:00:01\r\u001b[K     |█████████▏                      | 30 kB 35.7 MB/s eta 0:00:01\r\u001b[K     |████████████▏                   | 40 kB 16.9 MB/s eta 0:00:01\r\u001b[K     |███████████████▎                | 51 kB 13.0 MB/s eta 0:00:01\r\u001b[K     |██████████████████▎             | 61 kB 14.7 MB/s eta 0:00:01\r\u001b[K     |█████████████████████▍          | 71 kB 14.8 MB/s eta 0:00:01\r\u001b[K     |████████████████████████▍       | 81 kB 15.1 MB/s eta 0:00:01\r\u001b[K     |███████████████████████████▌    | 92 kB 16.6 MB/s eta 0:00:01\r\u001b[K     |██████████████████████████████▌ | 102 kB 14.5 MB/s eta 0:00:01\r\u001b[K     |████████████████████████████████| 107 kB 14.5 MB/s \n",
            "\u001b[?25hRequirement already satisfied: numpy in /usr/local/lib/python3.7/dist-packages (from tflearn) (1.21.6)\n",
            "Requirement already satisfied: six in /usr/local/lib/python3.7/dist-packages (from tflearn) (1.15.0)\n",
            "Requirement already satisfied: Pillow in /usr/local/lib/python3.7/dist-packages (from tflearn) (7.1.2)\n",
            "Building wheels for collected packages: tflearn\n",
            "  Building wheel for tflearn (setup.py) ... \u001b[?25l\u001b[?25hdone\n",
            "  Created wheel for tflearn: filename=tflearn-0.5.0-py3-none-any.whl size=127299 sha256=d0d6f57b3a933768afb0a9bd1544e5a59146233bf7d533b5943c657210112c58\n",
            "  Stored in directory: /root/.cache/pip/wheels/5f/14/2e/1d8e28cc47a5a931a2fb82438c9e37ef9246cc6a3774520271\n",
            "Successfully built tflearn\n",
            "Installing collected packages: tflearn\n",
            "Successfully installed tflearn-0.5.0\n"
          ]
        }
      ]
    },
    {
      "cell_type": "code",
      "source": [
        "import tflearn\n",
        "from tflearn.layers.conv import conv_2d, max_pool_2d\n",
        "from tflearn.layers.core import input_data, dropout, fully_connected\n",
        "from tflearn.layers.estimator import regression\n",
        "\n",
        "from tensorflow.python.framework import ops\n",
        "ops.reset_default_graph()\n",
        "\n",
        "convnet = input_data(shape=[None, IMG_SIZE, IMG_SIZE, 1], name = 'input')\n",
        "\n",
        "convnet = conv_2d(convnet, 32, 5, activation = 'relu')\n",
        "convnet = max_pool_2d(convnet, 5)\n",
        "\n",
        "convnet = conv_2d(convnet, 64, 5, activation = 'relu')\n",
        "convnet = max_pool_2d(convnet, 5)\n",
        "\n",
        "convnet = conv_2d(convnet, 32, 5, activation = 'relu')\n",
        "convnet = max_pool_2d(convnet, 5)\n",
        "\n",
        "convnet = conv_2d(convnet, 64, 5, activation = 'relu')\n",
        "convnet = max_pool_2d(convnet, 5)\n",
        "\n",
        "\n",
        "convnet = fully_connected(convnet, 1024, activation = 'relu')\n",
        "convnet = dropout(convnet, 0.8)\n",
        "convnet = fully_connected(convnet, 2, activation = 'softmax')\n",
        "convnet = regression(convnet, optimizer = 'adam', learning_rate = LR, loss = 'categorical_crossentropy', name = 'targets')\n",
        "model = tflearn.DNN(convnet, tensorboard_verbose=3)"
      ],
      "metadata": {
        "id": "DbLJfYSpJaND"
      },
      "execution_count": null,
      "outputs": []
    },
    {
      "cell_type": "code",
      "source": [
        "#making the validation set from the train data, to use to verify the model before putting it on the test data\n",
        "\n",
        "train = trainData[-90:] #Train Set\n",
        "test = trainData[:-90] #Validation Set"
      ],
      "metadata": {
        "id": "a-6-kml7z1jq"
      },
      "execution_count": null,
      "outputs": []
    },
    {
      "cell_type": "code",
      "source": [
        "#making the X and Y sets for fitting the model\n",
        "X = np.array([i[0] for i in train]).reshape(-1, IMG_SIZE, IMG_SIZE, 1)\n",
        "Y = [i[1] for i in train]\n",
        "\n",
        "test_x = np.array([i[0] for i in test]).reshape(-1, IMG_SIZE, IMG_SIZE, 1)\n",
        "test_y = [i[1] for i in test]"
      ],
      "metadata": {
        "id": "0tvNFioc1_I4"
      },
      "execution_count": null,
      "outputs": []
    },
    {
      "cell_type": "code",
      "source": [
        "#actually fit the model\n",
        "model.fit({'input': X}, {'targets': Y}, n_epoch=100, validation_set=({'input': test_x}, {'targets': test_y}), \n",
        "          snapshot_step=50, show_metric=True, run_id='SNEAKERAID')"
      ],
      "metadata": {
        "colab": {
          "base_uri": "https://localhost:8080/"
        },
        "id": "_gh1yPqg2bVe",
        "outputId": "39ca2a5f-39e8-4300-f890-e4aa939d1e3c"
      },
      "execution_count": null,
      "outputs": [
        {
          "output_type": "stream",
          "name": "stdout",
          "text": [
            "Training Step: 205  | total loss: \u001b[1m\u001b[32m0.64147\u001b[0m\u001b[0m | time: 2.975s\n",
            "| Adam | epoch: 103 | loss: 0.64147 - acc: 0.9275 -- iter: 64/90\n",
            "Training Step: 206  | total loss: \u001b[1m\u001b[32m0.57747\u001b[0m\u001b[0m | time: 5.222s\n",
            "| Adam | epoch: 103 | loss: 0.57747 - acc: 0.9348 | val_loss: 0.19790 - val_acc: 0.9200 -- iter: 90/90\n",
            "--\n"
          ]
        }
      ]
    },
    {
      "cell_type": "code",
      "source": [
        "fig = plt.figure()\n",
        "\n",
        "for num, data in enumerate(testData[:10]):\n",
        "    img_num = data[1]\n",
        "    img_data = data[0]\n",
        "    \n",
        "    y = fig.add_subplot(3,4,num+1)\n",
        "    orig = img_data\n",
        "    data = img_data.reshape(IMG_SIZE, IMG_SIZE, 1)\n",
        "    model_out = model.predict([data])[0]\n",
        "    print(model_out)\n",
        "    if np.argmax(model_out) == 1:\n",
        "        str_label = 'ADIDAS'\n",
        "    else:\n",
        "        str_label = 'NIKE'\n",
        "    \n",
        "    y.imshow(orig, cmap = 'gray')\n",
        "    plt.title(str_label)\n",
        "    y.axes.get_xaxis().set_visible(False)\n",
        "    y.axes.get_yaxis().set_visible(False)\n",
        "plt.show()"
      ],
      "metadata": {
        "colab": {
          "base_uri": "https://localhost:8080/",
          "height": 446
        },
        "id": "clHwVynS9s9T",
        "outputId": "c86ed147-5281-4d13-b2ec-3937c3fa0928"
      },
      "execution_count": null,
      "outputs": [
        {
          "output_type": "stream",
          "name": "stdout",
          "text": [
            "[0.0265206 0.9734794]\n",
            "[0.01204857 0.98795146]\n",
            "[9.9929023e-01 7.0969807e-04]\n",
            "[0.33206406 0.6679359 ]\n",
            "[0.00947388 0.9905261 ]\n",
            "[9.9913150e-01 8.6851214e-04]\n",
            "[0.99408853 0.00591151]\n",
            "[0.99894017 0.00105981]\n",
            "[0.00676232 0.9932376 ]\n",
            "[0.99770075 0.00229928]\n"
          ]
        },
        {
          "output_type": "display_data",
          "data": {
            "text/plain": [
              "<Figure size 432x288 with 10 Axes>"
            ],
            "image/png": "[encoded data removed]"
          },
          "metadata": {
            "needs_background": "light"
          }
        }
      ]
    }
  ]
}